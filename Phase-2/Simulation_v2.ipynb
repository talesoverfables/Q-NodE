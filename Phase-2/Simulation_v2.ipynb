{
  "nbformat": 4,
  "nbformat_minor": 0,
  "metadata": {
    "colab": {
      "provenance": [],
      "authorship_tag": "ABX9TyPwMwZd2VpjSx35ANSwg/2s",
      "include_colab_link": true
    },
    "kernelspec": {
      "name": "python3",
      "display_name": "Python 3"
    },
    "language_info": {
      "name": "python"
    }
  },
  "cells": [
    {
      "cell_type": "markdown",
      "metadata": {
        "id": "view-in-github",
        "colab_type": "text"
      },
      "source": [
        "<a href=\"https://colab.research.google.com/github/talesoverfables/Q-NodE/blob/main/Phase-2/Simulation_v2.ipynb\" target=\"_parent\"><img src=\"https://colab.research.google.com/assets/colab-badge.svg\" alt=\"Open In Colab\"/></a>"
      ]
    },
    {
      "cell_type": "markdown",
      "source": [
        "# QKD 1 - BB84 Protocol"
      ],
      "metadata": {
        "id": "hBE4xj6hCQ7x"
      }
    },
    {
      "cell_type": "code",
      "execution_count": null,
      "metadata": {
        "colab": {
          "base_uri": "https://localhost:8080/"
        },
        "id": "yh2nEyKhkyxI",
        "outputId": "acd16e96-0ed4-477f-c56e-eaf18c48b108"
      },
      "outputs": [
        {
          "output_type": "stream",
          "name": "stdout",
          "text": [
            "Requirement already satisfied: qutip in /usr/local/lib/python3.10/dist-packages (5.0.2)\n",
            "Requirement already satisfied: numpy<2.0.0,>=1.22 in /usr/local/lib/python3.10/dist-packages (from qutip) (1.25.2)\n",
            "Requirement already satisfied: scipy>=1.8 in /usr/local/lib/python3.10/dist-packages (from qutip) (1.11.4)\n",
            "Requirement already satisfied: packaging in /usr/local/lib/python3.10/dist-packages (from qutip) (24.0)\n"
          ]
        }
      ],
      "source": [
        "!pip install qutip"
      ]
    },
    {
      "cell_type": "markdown",
      "source": [
        "## Initial Setup"
      ],
      "metadata": {
        "id": "1nZ33BDDCVnj"
      }
    },
    {
      "cell_type": "code",
      "source": [
        "# BB84 Protocol Transmitter Code\n",
        "import numpy as np\n",
        "from qutip import basis, tensor\n",
        "from qutip import *"
      ],
      "metadata": {
        "id": "AG9Z6QWZmSQ2"
      },
      "execution_count": null,
      "outputs": []
    },
    {
      "cell_type": "code",
      "source": [
        "# Set the basis states\n",
        "zero = basis(2, 0)  # |0⟩\n",
        "one = basis(2, 1)   # |1⟩\n"
      ],
      "metadata": {
        "id": "Z1Fl9G7LnJZ9"
      },
      "execution_count": null,
      "outputs": []
    },
    {
      "cell_type": "code",
      "source": [
        "# Generate random bits for encoding\n",
        "n_bits = 150\n",
        "alice_bits = np.random.randint(2, size=n_bits)"
      ],
      "metadata": {
        "id": "wCkMW8YNnMoS"
      },
      "execution_count": null,
      "outputs": []
    },
    {
      "cell_type": "code",
      "source": [
        "# Create the quantum states\n",
        "alice_states = [zero if bit == 0 else one for bit in alice_bits]"
      ],
      "metadata": {
        "id": "rCfX-Jx6nUVA"
      },
      "execution_count": null,
      "outputs": []
    },
    {
      "cell_type": "code",
      "source": [
        "# Apply random basis transformations (Pauli-X gate)\n",
        "alice_bases = np.random.randint(2, size=n_bits)\n",
        "alice_encoded_states = []\n",
        "for i in range(n_bits):\n",
        "    if alice_bases[i] == 0:\n",
        "        alice_encoded_states.append(alice_states[i])\n",
        "    else:\n",
        "        alice_encoded_states.append(tensor(one, alice_states[i]))\n"
      ],
      "metadata": {
        "id": "UMoqxNB_nXNh"
      },
      "execution_count": null,
      "outputs": []
    },
    {
      "cell_type": "code",
      "source": [
        "# Send the encoded states to Bob (simulated quantum communication)\n",
        "bob_bases = np.random.randint(2, size=n_bits)\n",
        "bob_received_states = []\n",
        "for i in range(n_bits):\n",
        "    if bob_bases[i] == 0:\n",
        "        bob_received_states.append(alice_encoded_states[i])\n",
        "    else:\n",
        "        bob_received_states.append(tensor(one, alice_states[i]))"
      ],
      "metadata": {
        "id": "enBHKWwC5_hR"
      },
      "execution_count": null,
      "outputs": []
    },
    {
      "cell_type": "code",
      "source": [
        "# Bob measures the received states\n",
        "bob_measurements = []\n",
        "for state in bob_received_states:\n",
        "    prob_0 = abs(state.overlap(zero))**2  # Compute overlap (inner product)\n",
        "    if np.random.rand() < prob_0:\n",
        "        bob_measurements.append(0)\n",
        "    else:\n",
        "        bob_measurements.append(1)"
      ],
      "metadata": {
        "id": "X_t6pTmY6BBW"
      },
      "execution_count": null,
      "outputs": []
    },
    {
      "cell_type": "code",
      "source": [
        "\n",
        "# Compare bases to establish the shared secret key\n",
        "shared_key = [alice_bits[i] for i in range(n_bits) if alice_bases[i] == bob_bases[i]]"
      ],
      "metadata": {
        "id": "dKDY6L_F6DWh"
      },
      "execution_count": null,
      "outputs": []
    },
    {
      "cell_type": "code",
      "source": [
        "print(\"Alice's bits:\", alice_bits)\n",
        "print(\"Bob's measurements:\", bob_measurements)\n",
        "print(\"Shared secret key:\", shared_key)"
      ],
      "metadata": {
        "colab": {
          "base_uri": "https://localhost:8080/"
        },
        "id": "1KcRRNrE6GEL",
        "outputId": "da093012-243c-4615-b0de-503204a1cb4c"
      },
      "execution_count": null,
      "outputs": [
        {
          "output_type": "stream",
          "name": "stdout",
          "text": [
            "Alice's bits: [0 1 0 0 1 0 0 0 0 1 0 1 1 0 0 1 1 1 0 1 0 0 0 1 0 0 0 0 0 0 1 1 0 0 0 0 1\n",
            " 1 1 0 1 0 0 1 1 0 0 0 1 1 0 1 0 0 1 1 1 0 0 1 0 1 0 1 0 0 0 1 1 1 0 1 1 1\n",
            " 0 0 1 1 1 1 1 0 1 1 0 0 0 0 0 1 1 0 0 0 0 1 1 1 0 1 1 1 0 1 0 1 1 0 0 0 0\n",
            " 1 1 0 0 0 1 0 1 0 1 1 0 1 1 1 1 0 0 1 1 0 1 1 0 0 0 1 0 1 0 1 1 1 0 1 0 1\n",
            " 0 0]\n",
            "Bob's measurements: [1, 1, 0, 0, 1, 0, 1, 1, 1, 1, 1, 1, 1, 1, 1, 1, 1, 1, 0, 1, 0, 1, 1, 1, 0, 0, 1, 1, 1, 1, 1, 1, 1, 0, 1, 0, 1, 1, 1, 0, 1, 1, 0, 1, 1, 1, 1, 0, 1, 1, 1, 1, 1, 0, 1, 1, 1, 1, 1, 1, 1, 1, 0, 1, 1, 1, 1, 1, 1, 1, 1, 1, 1, 1, 0, 1, 1, 1, 1, 1, 1, 1, 1, 1, 1, 0, 0, 1, 1, 1, 1, 1, 1, 1, 1, 1, 1, 1, 1, 1, 1, 1, 1, 1, 1, 1, 1, 0, 0, 1, 1, 1, 1, 1, 1, 1, 1, 1, 1, 0, 1, 1, 1, 1, 1, 1, 1, 1, 0, 1, 1, 1, 1, 1, 1, 1, 1, 1, 1, 1, 1, 1, 1, 1, 1, 1, 1, 1, 1, 1]\n",
            "Shared secret key: [0, 0, 1, 0, 0, 0, 1, 1, 1, 0, 1, 0, 0, 0, 0, 0, 0, 0, 0, 1, 0, 0, 0, 1, 0, 0, 1, 1, 0, 0, 1, 1, 0, 0, 1, 1, 1, 1, 0, 1, 1, 1, 1, 1, 0, 1, 1, 1, 0, 0, 1, 0, 0, 0, 1, 1, 1, 0, 1, 1, 1, 0, 0, 0, 0, 0, 0, 1, 1, 1, 1, 0, 1, 1, 0, 0, 0, 1, 1, 1, 0, 1, 0]\n"
          ]
        }
      ]
    }
  ]
}