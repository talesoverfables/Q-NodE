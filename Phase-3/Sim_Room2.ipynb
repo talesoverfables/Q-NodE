{
  "nbformat": 4,
  "nbformat_minor": 0,
  "metadata": {
    "colab": {
      "provenance": [],
      "authorship_tag": "ABX9TyPwHQZrLEYFGoFbdjaDho16",
      "include_colab_link": true
    },
    "kernelspec": {
      "name": "python3",
      "display_name": "Python 3"
    },
    "language_info": {
      "name": "python"
    }
  },
  "cells": [
    {
      "cell_type": "markdown",
      "metadata": {
        "id": "view-in-github",
        "colab_type": "text"
      },
      "source": [
        "<a href=\"https://colab.research.google.com/github/talesoverfables/Q-NodE/blob/main/Phase-3/Sim_Room2.ipynb\" target=\"_parent\"><img src=\"https://colab.research.google.com/assets/colab-badge.svg\" alt=\"Open In Colab\"/></a>"
      ]
    },
    {
      "cell_type": "code",
      "execution_count": null,
      "metadata": {
        "id": "NGYHXmQZEeTE",
        "colab": {
          "base_uri": "https://localhost:8080/"
        },
        "outputId": "cd09fe9c-9966-4f2f-aca3-dff661fadd72"
      },
      "outputs": [
        {
          "output_type": "stream",
          "name": "stdout",
          "text": [
            "Collecting qutip\n",
            "  Downloading qutip-5.0.3.post1-cp310-cp310-manylinux_2_17_x86_64.manylinux2014_x86_64.whl (28.0 MB)\n",
            "\u001b[2K     \u001b[90m━━━━━━━━━━━━━━━━━━━━━━━━━━━━━━━━━━━━━━━━\u001b[0m \u001b[32m28.0/28.0 MB\u001b[0m \u001b[31m12.5 MB/s\u001b[0m eta \u001b[36m0:00:00\u001b[0m\n",
            "\u001b[?25hRequirement already satisfied: numpy>=1.22 in /usr/local/lib/python3.10/dist-packages (from qutip) (1.25.2)\n",
            "Requirement already satisfied: scipy>=1.9 in /usr/local/lib/python3.10/dist-packages (from qutip) (1.11.4)\n",
            "Requirement already satisfied: packaging in /usr/local/lib/python3.10/dist-packages (from qutip) (24.1)\n",
            "Installing collected packages: qutip\n",
            "Successfully installed qutip-5.0.3.post1\n"
          ]
        }
      ],
      "source": [
        "!pip install qutip"
      ]
    },
    {
      "cell_type": "markdown",
      "source": [
        "# User-based decryption"
      ],
      "metadata": {
        "id": "gE4VnU-JVSwN"
      }
    },
    {
      "cell_type": "code",
      "source": [
        "import numpy as np\n",
        "from qutip import basis, sigmax, Qobj"
      ],
      "metadata": {
        "id": "gUkNNsN1R0oJ"
      },
      "execution_count": null,
      "outputs": []
    },
    {
      "cell_type": "code",
      "source": [
        "def text_to_binary(text):\n",
        "    binary_text = ''.join(format(ord(char), '08b') for char in text)\n",
        "    return binary_text"
      ],
      "metadata": {
        "id": "m-LpqUBqUq0A"
      },
      "execution_count": null,
      "outputs": []
    },
    {
      "cell_type": "code",
      "source": [
        "def bb84_encrypt(binary_text):\n",
        "    alice_basis = np.random.randint(2, size=len(binary_text))\n",
        "    alice_state = np.array([int(bit) for bit in binary_text])\n",
        "    alice_qubits = []\n",
        "    for i in range(len(binary_text)):\n",
        "        if alice_basis[i] == 0:\n",
        "            if alice_state[i] == 0:\n",
        "                alice_qubits.append(basis(2, 0))\n",
        "            else:\n",
        "                alice_qubits.append(basis(2, 1))\n",
        "        else:\n",
        "            if alice_state[i] == 0:\n",
        "                alice_qubits.append(sigmax() * basis(2, 0))\n",
        "            else:\n",
        "                alice_qubits.append(sigmax() * basis(2, 1))\n",
        "    return alice_qubits, alice_basis"
      ],
      "metadata": {
        "id": "xS10lQxxUrOr"
      },
      "execution_count": null,
      "outputs": []
    },
    {
      "cell_type": "code",
      "source": [
        "def bb84_decrypt(alice_qubits, alice_basis, bob_basis):\n",
        "    bob_qubits = [Qobj(qubit.full()) for qubit in alice_qubits]\n",
        "    for i in range(len(bob_qubits)):\n",
        "        if bob_basis[i] == 1:\n",
        "            bob_qubits[i] = sigmax() * bob_qubits[i]\n",
        "    bob_measurements = [np.random.choice([0, 1], p=[np.abs(q.full()[0, 0])**2, np.abs(q.full()[1, 0])**2]) for q in bob_qubits]\n",
        "    return bob_measurements"
      ],
      "metadata": {
        "id": "VFeO0SgqUuRT"
      },
      "execution_count": null,
      "outputs": []
    },
    {
      "cell_type": "code",
      "source": [
        "def generate_secret_key(alice_basis, bob_basis, alice_qubits):\n",
        "    alice_key = []\n",
        "    bob_key = []\n",
        "    for i in range(len(alice_basis)):\n",
        "        if alice_basis[i] == bob_basis[i]:\n",
        "            alice_key.append(np.random.choice([0, 1], p=[np.abs(alice_qubits[i].full()[0, 0])**2, np.abs(alice_qubits[i].full()[1, 0])**2]))\n",
        "            bob_key.append(np.random.choice([0, 1], p=[np.abs(alice_qubits[i].full()[0, 0])**2, np.abs(alice_qubits[i].full()[1, 0])**2]))\n",
        "    return alice_key, bob_key"
      ],
      "metadata": {
        "id": "LmkqYgRXUypZ"
      },
      "execution_count": null,
      "outputs": []
    },
    {
      "cell_type": "code",
      "source": [
        "def encrypt_message(binary_text, secret_key):\n",
        "    encrypted_text = ''\n",
        "    for i in range(len(binary_text)):\n",
        "        encrypted_text += str(int(binary_text[i]) ^ secret_key[i % len(secret_key)])\n",
        "    return encrypted_text\n",
        "\n",
        "def decrypt_message(encrypted_text, secret_key):\n",
        "    decrypted_text = ''\n",
        "    for i in range(len(encrypted_text)):\n",
        "        decrypted_text += str(int(encrypted_text[i]) ^ secret_key[i % len(secret_key)])\n",
        "    return decrypted_text"
      ],
      "metadata": {
        "id": "ULR4iaUbU2yI"
      },
      "execution_count": null,
      "outputs": []
    },
    {
      "cell_type": "code",
      "source": [
        "def main():\n",
        "    text = input(\"Enter the text to be sent: \")\n",
        "    binary_text = text_to_binary(text)\n",
        "    alice_qubits, alice_basis = bb84_encrypt(binary_text)\n",
        "\n",
        "    receiver = input(\"Enter the receiver (Bob1 or Bob2): \")\n",
        "\n",
        "    if receiver == \"Bob1\":\n",
        "        bob_basis = np.random.randint(2, size=len(binary_text))\n",
        "        bob_measurements = bb84_decrypt(alice_qubits, alice_basis, bob_basis)\n",
        "        alice_key, bob_key = generate_secret_key(alice_basis, bob_basis, alice_qubits)\n",
        "        encrypted_text = encrypt_message(binary_text, alice_key)\n",
        "        decrypted_text = decrypt_message(encrypted_text, bob_key)\n",
        "        print(\"Decrypted text by Bob1:\", ''.join([chr(int(decrypted_text[i*8:i*8+8], 2)) for i in range(len(decrypted_text)//8)]))\n",
        "\n",
        "        # Bob2 receives a random message\n",
        "        bob2_basis = np.random.randint(2, size=len(binary_text))\n",
        "        bob2_measurements = bb84_decrypt(alice_qubits, alice_basis, bob2_basis)\n",
        "        alice_key, bob2_key = generate_secret_key(alice_basis, bob2_basis, alice_qubits)\n",
        "        random_message = \"Something else\"\n",
        "        random_binary_message = text_to_binary(random_message)\n",
        "        encrypted_text = encrypt_message(random_binary_message, alice_key)\n",
        "        decrypted_text2 = decrypt_message(encrypted_text, bob2_key)\n",
        "        print(\"Decrypted text by Bob2:\", ''.join([chr(int(decrypted_text2[i*8:i*8+8], 2)) for i in range(len(decrypted_text2)//8)]))\n",
        "    elif receiver == \"Bob2\":\n",
        "        bob_basis = np.random.randint(2, size=len(binary_text))\n",
        "        bob_measurements = bb84_decrypt(alice_qubits, alice_basis, bob_basis)\n",
        "        alice_key, bob_key = generate_secret_key(alice_basis, bob_basis, alice_qubits)\n",
        "        encrypted_text = encrypt_message(binary_text, alice_key)\n",
        "        decrypted_text = decrypt_message(encrypted_text, bob_key)\n",
        "        print(\"Decrypted text by Bob2:\", ''.join([chr(int(decrypted_text[i*8:i*8+8], 2)) for i in range(len(decrypted_text)//8)]))\n",
        "\n",
        "        # Bob1 receives a random message\n",
        "        bob1_basis = np.random.randint(2, size=len(binary_text))\n",
        "        bob1_measurements = bb84_decrypt(alice_qubits, alice_basis, bob1_basis)\n",
        "        alice_key, bob1_key = generate_secret_key(alice_basis, bob1_basis, alice_qubits)\n",
        "        random_message = \"Something else\"\n",
        "        random_binary_message = text_to_binary(random_message)\n",
        "        encrypted_text = encrypt_message(random_binary_message, alice_key)\n",
        "        decrypted_text2 = decrypt_message(encrypted_text, bob1_key)\n",
        "        print(\"Decrypted text by Bob1:\", ''.join([chr(int(decrypted_text2[i*8:i*8+8], 2)) for i in range(len(decrypted_text2)//8)]))"
      ],
      "metadata": {
        "id": "yXPrNnY8U6u6"
      },
      "execution_count": null,
      "outputs": []
    },
    {
      "cell_type": "code",
      "source": [
        "if __name__ == \"__main__\":\n",
        "    main()"
      ],
      "metadata": {
        "colab": {
          "base_uri": "https://localhost:8080/"
        },
        "id": "8rJTaYSsVBQW",
        "outputId": "e48a5045-6a28-44d2-e9f9-a2b0ab91785f"
      },
      "execution_count": null,
      "outputs": [
        {
          "output_type": "stream",
          "name": "stdout",
          "text": [
            "Enter the text to be sent: Hello, RVCE!\n",
            "Enter the receiver (Bob1 or Bob2): Bob1\n",
            "Decrypted text by Bob1: Hello, RVCE!\n",
            "Decrypted text by Bob2: Something else\n"
          ]
        }
      ]
    }
  ]
}