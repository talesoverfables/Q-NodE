{
  "nbformat": 4,
  "nbformat_minor": 0,
  "metadata": {
    "colab": {
      "provenance": [],
      "authorship_tag": "ABX9TyMWFQbSP9bla4qG0eYC453v",
      "include_colab_link": true
    },
    "kernelspec": {
      "name": "python3",
      "display_name": "Python 3"
    },
    "language_info": {
      "name": "python"
    }
  },
  "cells": [
    {
      "cell_type": "markdown",
      "metadata": {
        "id": "view-in-github",
        "colab_type": "text"
      },
      "source": [
        "<a href=\"https://colab.research.google.com/github/talesoverfables/Q-NodE/blob/main/Phase-3/Sim_v3_backend.ipynb\" target=\"_parent\"><img src=\"https://colab.research.google.com/assets/colab-badge.svg\" alt=\"Open In Colab\"/></a>"
      ]
    },
    {
      "cell_type": "code",
      "execution_count": 69,
      "metadata": {
        "colab": {
          "base_uri": "https://localhost:8080/"
        },
        "id": "QvJRC2EMZtpR",
        "outputId": "0a28dd85-aee2-473b-8996-c3a2c9a3eea1"
      },
      "outputs": [
        {
          "output_type": "stream",
          "name": "stdout",
          "text": [
            "Requirement already satisfied: qutip in /usr/local/lib/python3.10/dist-packages (5.0.3.post1)\n",
            "Requirement already satisfied: numpy>=1.22 in /usr/local/lib/python3.10/dist-packages (from qutip) (1.25.2)\n",
            "Requirement already satisfied: scipy>=1.9 in /usr/local/lib/python3.10/dist-packages (from qutip) (1.11.4)\n",
            "Requirement already satisfied: packaging in /usr/local/lib/python3.10/dist-packages (from qutip) (24.1)\n"
          ]
        }
      ],
      "source": [
        "!pip install qutip"
      ]
    },
    {
      "cell_type": "markdown",
      "source": [
        "# QKD Backend Simulation - Representing Room 2"
      ],
      "metadata": {
        "id": "AeF0vaCzGW_S"
      }
    },
    {
      "cell_type": "code",
      "source": [
        "def text_to_binary(text):\n",
        "    binary_text = ''.join(format(ord(char), '08b') for char in text)\n",
        "    return binary_text\n"
      ],
      "metadata": {
        "id": "SL1EFqIp95lI"
      },
      "execution_count": 71,
      "outputs": []
    },
    {
      "cell_type": "code",
      "source": [
        "def bb84_encrypt(binary_text):\n",
        "    alice_basis = np.random.randint(2, size=len(binary_text))\n",
        "    alice_state = np.array([int(bit) for bit in binary_text])\n",
        "    alice_qubits = []\n",
        "    for i in range(len(binary_text)):\n",
        "        if alice_basis[i] == 0:\n",
        "            if alice_state[i] == 0:\n",
        "                alice_qubits.append(basis(2, 0))\n",
        "            else:\n",
        "                alice_qubits.append(basis(2, 1))\n",
        "        else:\n",
        "            if alice_state[i] == 0:\n",
        "                alice_qubits.append(sigmax() * basis(2, 0))\n",
        "            else:\n",
        "                alice_qubits.append(sigmax() * basis(2, 1))\n",
        "    return alice_qubits, alice_basis"
      ],
      "metadata": {
        "id": "kU1cG4bq_IaI"
      },
      "execution_count": 72,
      "outputs": []
    },
    {
      "cell_type": "code",
      "source": [
        "def bb84_decrypt(alice_qubits, alice_basis, bob_basis):\n",
        "    bob_qubits = [Qobj(qubit.full()) for qubit in alice_qubits]\n",
        "    for i in range(len(bob_qubits)):\n",
        "        if bob_basis[i] == 1:\n",
        "            bob_qubits[i] = sigmax() * bob_qubits[i]\n",
        "    bob_measurements = [np.random.choice([0, 1], p=[np.abs(q.full()[0, 0])**2, np.abs(q.full()[1, 0])**2]) for q in bob_qubits]\n",
        "    return bob_measurements"
      ],
      "metadata": {
        "id": "ZOHNIIn1_McI"
      },
      "execution_count": 73,
      "outputs": []
    },
    {
      "cell_type": "code",
      "source": [
        "def generate_secret_key(alice_basis, bob_basis, alice_qubits):\n",
        "    alice_key = []\n",
        "    bob_key = []\n",
        "    for i in range(len(alice_basis)):\n",
        "        if alice_basis[i] == bob_basis[i]:\n",
        "            alice_key.append(np.random.choice([0, 1], p=[np.abs(alice_qubits[i].full()[0, 0])**2, np.abs(alice_qubits[i].full()[1, 0])**2]))\n",
        "            bob_key.append(np.random.choice([0, 1], p=[np.abs(alice_qubits[i].full()[0, 0])**2, np.abs(alice_qubits[i].full()[1, 0])**2]))\n",
        "    return alice_key, bob_key"
      ],
      "metadata": {
        "id": "FPn9jEmi_QeX"
      },
      "execution_count": 74,
      "outputs": []
    },
    {
      "cell_type": "code",
      "source": [
        "def encrypt_message(binary_text, secret_key):\n",
        "    encrypted_text = ''\n",
        "    for i in range(len(binary_text)):\n",
        "        encrypted_text += str(int(binary_text[i]) ^ secret_key[i % len(secret_key)])\n",
        "    return encrypted_text\n"
      ],
      "metadata": {
        "id": "Pqr3YAif_T4f"
      },
      "execution_count": 75,
      "outputs": []
    },
    {
      "cell_type": "code",
      "source": [
        "def decrypt_message(encrypted_text, secret_key):\n",
        "    decrypted_text = ''\n",
        "    for i in range(len(encrypted_text)):\n",
        "        decrypted_text += str(int(encrypted_text[i]) ^ secret_key[i % len(secret_key)])\n",
        "    return decrypted_text"
      ],
      "metadata": {
        "id": "uNW4Js6d_YEW"
      },
      "execution_count": 76,
      "outputs": []
    },
    {
      "cell_type": "code",
      "source": [
        "def main():\n",
        "    text = input(\"Enter the text to be sent: \")\n",
        "    binary_text = text_to_binary(text)\n",
        "    alice_qubits, alice_basis = bb84_encrypt(binary_text)\n",
        "    bob_basis = np.random.randint(2, size=len(binary_text))\n",
        "    bob_measurements = bb84_decrypt(alice_qubits, alice_basis, bob_basis)\n",
        "    alice_key, bob_key = generate_secret_key(alice_basis, bob_basis, alice_qubits)\n",
        "    encrypted_text = encrypt_message(binary_text, alice_key)\n",
        "    decrypted_text = decrypt_message(encrypted_text, bob_key)\n",
        "    print(\"Decrypted text:\", ''.join([chr(int(decrypted_text[i*8:i*8+8], 2)) for i in range(len(decrypted_text)//8)]))"
      ],
      "metadata": {
        "id": "wohRP31s_bNI"
      },
      "execution_count": 77,
      "outputs": []
    },
    {
      "cell_type": "code",
      "source": [
        "\n",
        "if __name__ == \"__main__\":\n",
        "    main()"
      ],
      "metadata": {
        "colab": {
          "base_uri": "https://localhost:8080/"
        },
        "id": "6NloYlL6_erj",
        "outputId": "87568da6-6c95-42cc-97d2-3c7daa473c38"
      },
      "execution_count": 78,
      "outputs": [
        {
          "output_type": "stream",
          "name": "stdout",
          "text": [
            "Enter the text to be sent: hello\n",
            "Decrypted text: hello\n"
          ]
        }
      ]
    },
    {
      "cell_type": "markdown",
      "source": [
        "# Plotting the error rate\n"
      ],
      "metadata": {
        "id": "oIgQa4ZgGQjr"
      }
    },
    {
      "cell_type": "code",
      "source": [
        "def bb84_encrypt(binary_text):\n",
        "    alice_basis = np.random.randint(2, size=len(binary_text))\n",
        "    alice_state = np.array([int(bit) for bit in binary_text])\n",
        "    alice_qubits = []\n",
        "    for i in range(len(binary_text)):\n",
        "        if alice_basis[i] == 0:\n",
        "            if alice_state[i] == 0:\n",
        "                alice_qubits.append(Qobj(basis(2, 0)))\n",
        "            else:\n",
        "                alice_qubits.append(Qobj(basis(2, 1)))\n",
        "        else:\n",
        "            if alice_state[i] == 0:\n",
        "                alice_qubits.append(Qobj(sigmax() * basis(2, 0)))\n",
        "            else:\n",
        "                alice_qubits.append(Qobj(sigmax() * basis(2, 1)))\n",
        "    return alice_qubits, alice_basis"
      ],
      "metadata": {
        "id": "YFiC9zfC_2SF"
      },
      "execution_count": 81,
      "outputs": []
    },
    {
      "cell_type": "code",
      "source": [
        "def bb84_decrypt(alice_qubits, bob_basis):\n",
        "    bob_qubits = []\n",
        "    for i in range(len(alice_qubits)):\n",
        "        if bob_basis[i] == 0:\n",
        "            bob_qubits.append(alice_qubits[i])\n",
        "        else:\n",
        "            bob_qubits.append(sigmax() * alice_qubits[i])\n",
        "    return bob_qubits"
      ],
      "metadata": {
        "id": "glVVTBOZDWtb"
      },
      "execution_count": 82,
      "outputs": []
    },
    {
      "cell_type": "code",
      "source": [
        "\n",
        "def measure_qubits(qubits):\n",
        "    measured_qubits = []\n",
        "    for qubit in qubits:\n",
        "        if qubit.full()[0, 0] == 1:\n",
        "            measured_qubits.append(0)\n",
        "        else:\n",
        "            measured_qubits.append(1)\n",
        "    return measured_qubits"
      ],
      "metadata": {
        "id": "S2jG862jDZZO"
      },
      "execution_count": 83,
      "outputs": []
    },
    {
      "cell_type": "code",
      "source": [
        "def calculate_error_rate(alice_key, bob_key):\n",
        "    error_count = 0\n",
        "    for i in range(len(alice_key)):\n",
        "        if alice_key[i] != bob_key[i]:\n",
        "            error_count += 1\n",
        "    return error_count / len(alice_key)"
      ],
      "metadata": {
        "id": "Oyz6GDU5Df5m"
      },
      "execution_count": 84,
      "outputs": []
    },
    {
      "cell_type": "code",
      "source": [
        "def generate_secret_key(alice_basis, bob_basis, alice_qubits):\n",
        "    bob_qubits = bb84_decrypt(alice_qubits, bob_basis)\n",
        "    alice_key = measure_qubits(alice_qubits)\n",
        "    bob_key = measure_qubits(bob_qubits)\n",
        "    return alice_key, bob_key"
      ],
      "metadata": {
        "id": "JzCc8-JFDjUb"
      },
      "execution_count": 85,
      "outputs": []
    },
    {
      "cell_type": "code",
      "source": [
        "def generate_graph():\n",
        "    error_rates = []\n",
        "    num_iterations = 1000\n",
        "    num_qubits_list = [10, 50, 100, 200, 500, 1000]\n",
        "    for num_qubits in num_qubits_list:\n",
        "        total_error_rate = 0\n",
        "        for _ in range(num_iterations):\n",
        "            binary_text = np.random.randint(2, size=num_qubits)\n",
        "            alice_qubits, alice_basis = bb84_encrypt(binary_text)\n",
        "            bob_basis = np.random.randint(2, size=num_qubits)\n",
        "            alice_key, bob_key = generate_secret_key(alice_basis, bob_basis, alice_qubits)\n",
        "            total_error_rate += calculate_error_rate(alice_key, bob_key)\n",
        "        error_rates.append(total_error_rate / num_iterations)\n",
        "    plt.plot(num_qubits_list, error_rates)\n",
        "    plt.xlabel('Number of Qubits')\n",
        "    plt.ylabel('Error Rate')\n",
        "    plt.title('Error Rate vs Number of Qubits')\n",
        "    plt.show()"
      ],
      "metadata": {
        "id": "9S937kPiDm-k"
      },
      "execution_count": 86,
      "outputs": []
    },
    {
      "cell_type": "code",
      "source": [
        "def main():\n",
        "    generate_graph()\n",
        "if __name__ == \"__main__\":\n",
        "  main()"
      ],
      "metadata": {
        "colab": {
          "base_uri": "https://localhost:8080/",
          "height": 472
        },
        "id": "7n0Tu0l3Dqr9",
        "outputId": "2532ffa2-96a4-4801-eb67-5ad6ccd78ac8"
      },
      "execution_count": 90,
      "outputs": [
        {
          "output_type": "display_data",
          "data": {
            "text/plain": [
              "<Figure size 640x480 with 1 Axes>"
            ],
            "image/png": "[encoded data removed]"
          },
          "metadata": {}
        }
      ]
    },
    {
      "cell_type": "code",
      "source": [],
      "metadata": {
        "id": "iGaemyQLDtsg"
      },
      "execution_count": null,
      "outputs": []
    }
  ]
}